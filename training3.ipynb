{
  "nbformat": 4,
  "nbformat_minor": 0,
  "metadata": {
    "colab": {
      "name": "emotion.ipynb",
      "provenance": []
    },
    "kernelspec": {
      "name": "python3",
      "display_name": "Python 3"
    },
    "language_info": {
      "name": "python"
    }
  },
  "cells": [
    {
      "cell_type": "code",
      "metadata": {
        "id": "Ia3v38ScywX7"
      },
      "source": [
        "import os\n",
        "import glob\n",
        "from tqdm import tqdm\n",
        "import pandas as pd\n",
        "import numpy as np\n",
        "import matplotlib.pyplot as plt\n",
        "from scipy.io import wavfile\n",
        "from python_speech_features import mfcc , logfbank\n",
        "import librosa as lr\n",
        "import os, glob, pickle\n",
        "import librosa\n",
        "from scipy import signal\n",
        "import noisereduce as nr\n",
        "from glob import glob\n",
        "import librosa\n",
        "get_ipython().magic('matplotlib inline')\n",
        "#All the Required Packages and Libraies are installed.\n",
        "import soundfile\n",
        "from tensorflow.keras.layers import Conv2D,MaxPool2D, Flatten, LSTM\n",
        "from keras.layers import Dropout,Dense,TimeDistributed\n",
        "from keras.models import Sequential\n",
        "from keras.utils import to_categorical \n",
        "from sklearn.utils.class_weight import compute_class_weight\n",
        "from sklearn.model_selection import train_test_split\n",
        "from sklearn.neural_network import MLPClassifier\n",
        "from sklearn.metrics import accuracy_score\n"
      ],
      "execution_count": 173,
      "outputs": []
    },
    {
      "cell_type": "code",
      "metadata": {
        "colab": {
          "base_uri": "https://localhost:8080/"
        },
        "id": "wm2DZ_Ipzgx8",
        "outputId": "28d7bdf3-f5dc-475c-ce92-ffc5faa1f44b"
      },
      "source": [
        "pip install python_speech_features"
      ],
      "execution_count": 96,
      "outputs": [
        {
          "output_type": "stream",
          "text": [
            "Requirement already satisfied: python_speech_features in /usr/local/lib/python3.7/dist-packages (0.6)\n"
          ],
          "name": "stdout"
        }
      ]
    },
    {
      "cell_type": "code",
      "metadata": {
        "colab": {
          "base_uri": "https://localhost:8080/"
        },
        "id": "kHN7nbbLz4O5",
        "outputId": "f9012e95-f1ed-46c6-bf85-ab823e69f695"
      },
      "source": [
        "pip install noisereduce"
      ],
      "execution_count": 4,
      "outputs": [
        {
          "output_type": "stream",
          "text": [
            "Collecting noisereduce\n",
            "  Downloading https://files.pythonhosted.org/packages/04/d0/4e50cac3daaa1522a3730ec22750ca86f6c221a480e65c8d6b0ab18a21ed/noisereduce-1.1.0.tar.gz\n",
            "Requirement already satisfied: scipy in /usr/local/lib/python3.7/dist-packages (from noisereduce) (1.4.1)\n",
            "Requirement already satisfied: matplotlib in /usr/local/lib/python3.7/dist-packages (from noisereduce) (3.2.2)\n",
            "Requirement already satisfied: librosa in /usr/local/lib/python3.7/dist-packages (from noisereduce) (0.8.0)\n",
            "Requirement already satisfied: numpy in /usr/local/lib/python3.7/dist-packages (from noisereduce) (1.19.5)\n",
            "Requirement already satisfied: tqdm in /usr/local/lib/python3.7/dist-packages (from noisereduce) (4.41.1)\n",
            "Requirement already satisfied: pyparsing!=2.0.4,!=2.1.2,!=2.1.6,>=2.0.1 in /usr/local/lib/python3.7/dist-packages (from matplotlib->noisereduce) (2.4.7)\n",
            "Requirement already satisfied: kiwisolver>=1.0.1 in /usr/local/lib/python3.7/dist-packages (from matplotlib->noisereduce) (1.3.1)\n",
            "Requirement already satisfied: python-dateutil>=2.1 in /usr/local/lib/python3.7/dist-packages (from matplotlib->noisereduce) (2.8.1)\n",
            "Requirement already satisfied: cycler>=0.10 in /usr/local/lib/python3.7/dist-packages (from matplotlib->noisereduce) (0.10.0)\n",
            "Requirement already satisfied: resampy>=0.2.2 in /usr/local/lib/python3.7/dist-packages (from librosa->noisereduce) (0.2.2)\n",
            "Requirement already satisfied: joblib>=0.14 in /usr/local/lib/python3.7/dist-packages (from librosa->noisereduce) (1.0.1)\n",
            "Requirement already satisfied: pooch>=1.0 in /usr/local/lib/python3.7/dist-packages (from librosa->noisereduce) (1.3.0)\n",
            "Requirement already satisfied: numba>=0.43.0 in /usr/local/lib/python3.7/dist-packages (from librosa->noisereduce) (0.51.2)\n",
            "Requirement already satisfied: soundfile>=0.9.0 in /usr/local/lib/python3.7/dist-packages (from librosa->noisereduce) (0.10.3.post1)\n",
            "Requirement already satisfied: audioread>=2.0.0 in /usr/local/lib/python3.7/dist-packages (from librosa->noisereduce) (2.1.9)\n",
            "Requirement already satisfied: scikit-learn!=0.19.0,>=0.14.0 in /usr/local/lib/python3.7/dist-packages (from librosa->noisereduce) (0.22.2.post1)\n",
            "Requirement already satisfied: decorator>=3.0.0 in /usr/local/lib/python3.7/dist-packages (from librosa->noisereduce) (4.4.2)\n",
            "Requirement already satisfied: six>=1.5 in /usr/local/lib/python3.7/dist-packages (from python-dateutil>=2.1->matplotlib->noisereduce) (1.15.0)\n",
            "Requirement already satisfied: requests in /usr/local/lib/python3.7/dist-packages (from pooch>=1.0->librosa->noisereduce) (2.23.0)\n",
            "Requirement already satisfied: packaging in /usr/local/lib/python3.7/dist-packages (from pooch>=1.0->librosa->noisereduce) (20.9)\n",
            "Requirement already satisfied: appdirs in /usr/local/lib/python3.7/dist-packages (from pooch>=1.0->librosa->noisereduce) (1.4.4)\n",
            "Requirement already satisfied: setuptools in /usr/local/lib/python3.7/dist-packages (from numba>=0.43.0->librosa->noisereduce) (54.2.0)\n",
            "Requirement already satisfied: llvmlite<0.35,>=0.34.0.dev0 in /usr/local/lib/python3.7/dist-packages (from numba>=0.43.0->librosa->noisereduce) (0.34.0)\n",
            "Requirement already satisfied: cffi>=1.0 in /usr/local/lib/python3.7/dist-packages (from soundfile>=0.9.0->librosa->noisereduce) (1.14.5)\n",
            "Requirement already satisfied: chardet<4,>=3.0.2 in /usr/local/lib/python3.7/dist-packages (from requests->pooch>=1.0->librosa->noisereduce) (3.0.4)\n",
            "Requirement already satisfied: urllib3!=1.25.0,!=1.25.1,<1.26,>=1.21.1 in /usr/local/lib/python3.7/dist-packages (from requests->pooch>=1.0->librosa->noisereduce) (1.24.3)\n",
            "Requirement already satisfied: idna<3,>=2.5 in /usr/local/lib/python3.7/dist-packages (from requests->pooch>=1.0->librosa->noisereduce) (2.10)\n",
            "Requirement already satisfied: certifi>=2017.4.17 in /usr/local/lib/python3.7/dist-packages (from requests->pooch>=1.0->librosa->noisereduce) (2020.12.5)\n",
            "Requirement already satisfied: pycparser in /usr/local/lib/python3.7/dist-packages (from cffi>=1.0->soundfile>=0.9.0->librosa->noisereduce) (2.20)\n",
            "Building wheels for collected packages: noisereduce\n",
            "  Building wheel for noisereduce (setup.py) ... \u001b[?25l\u001b[?25hdone\n",
            "  Created wheel for noisereduce: filename=noisereduce-1.1.0-cp37-none-any.whl size=7610 sha256=b8ccb7905ee18578114cef44b1dc48e04e1b6800425ba0c09b3fe2693c56ce41\n",
            "  Stored in directory: /root/.cache/pip/wheels/a6/2c/70/f9ccb41280dcfbe3eaeb7930f913dd85394617f3d3136f29cc\n",
            "Successfully built noisereduce\n",
            "Installing collected packages: noisereduce\n",
            "Successfully installed noisereduce-1.1.0\n"
          ],
          "name": "stdout"
        }
      ]
    },
    {
      "cell_type": "code",
      "metadata": {
        "colab": {
          "base_uri": "https://localhost:8080/"
        },
        "id": "itXavrhL0Uyi",
        "outputId": "eb52ef43-f2b0-4d64-d82b-bebe3ee0b3f7"
      },
      "source": [
        "import os\n",
        "os.listdir(path='/content/drive/MyDrive/speech_emotion_recognition')\n",
        "def getListOfFiles(dirName):\n",
        "    listOfFile=os.listdir(dirName)\n",
        "    allFiles=list()\n",
        "    for entry in listOfFile:\n",
        "        fullPath=os.path.join(dirName, entry)\n",
        "        if os.path.isdir(fullPath):\n",
        "            allFiles=allFiles + getListOfFiles(fullPath)\n",
        "        else:\n",
        "            allFiles.append(fullPath)\n",
        "    return allFiles\n",
        "\n",
        "dirName = '/content/drive/MyDrive/speech_emotion_recognition'\n",
        "listOfFiles = getListOfFiles(dirName)\n",
        "len(listOfFiles)"
      ],
      "execution_count": 174,
      "outputs": [
        {
          "output_type": "execute_result",
          "data": {
            "text/plain": [
              "1440"
            ]
          },
          "metadata": {
            "tags": []
          },
          "execution_count": 174
        }
      ]
    },
    {
      "cell_type": "code",
      "metadata": {
        "colab": {
          "base_uri": "https://localhost:8080/"
        },
        "id": "Xievu_Pl1OGD",
        "outputId": "969c84d9-a01e-4d94-8e17-4336d8abaa5f"
      },
      "source": [
        "pip install SpeechRecognition"
      ],
      "execution_count": 175,
      "outputs": [
        {
          "output_type": "stream",
          "text": [
            "Requirement already satisfied: SpeechRecognition in /usr/local/lib/python3.7/dist-packages (3.8.1)\n"
          ],
          "name": "stdout"
        }
      ]
    },
    {
      "cell_type": "code",
      "metadata": {
        "id": "flp9npMv1lFb"
      },
      "source": [
        "def envelope(y , rate, threshold):\n",
        "    mask=[]\n",
        "    y=pd.Series(y).apply(np.abs)\n",
        "    y_mean = y.rolling(window=int(rate/10) ,  min_periods=1 , center = True).mean()\n",
        "    for mean in y_mean:\n",
        "        if mean>threshold:\n",
        "            mask.append(True)\n",
        "        else:\n",
        "            mask.append(False)\n",
        "    return mask"
      ],
      "execution_count": 176,
      "outputs": []
    },
    {
      "cell_type": "code",
      "metadata": {
        "colab": {
          "base_uri": "https://localhost:8080/"
        },
        "id": "fIK-iDm61qHp",
        "outputId": "4f374b53-ac31-40ee-f0cd-85ef063ba8b2"
      },
      "source": [
        "import glob,pickle\n",
        "for file in tqdm(glob.glob(r'/content/drive/MyDrive/speech_emotion_recognition//**//*.wav')):\n",
        "    file_name = os.path.basename(file)\n",
        "    signal , rate = librosa.load(file, sr=16000)\n",
        "    mask = envelope(signal,rate, 0.0005)\n",
        "    wavfile.write(filename= r'/content/drive/MyDrive/clean_speech1//'+str(file_name), rate=rate,data=signal[mask])"
      ],
      "execution_count": 177,
      "outputs": [
        {
          "output_type": "stream",
          "text": [
            "100%|██████████| 1440/1440 [00:43<00:00, 33.13it/s]\n"
          ],
          "name": "stderr"
        }
      ]
    },
    {
      "cell_type": "code",
      "metadata": {
        "id": "irAU2pet-Hhg"
      },
      "source": [
        "def extract_feature(file_name, mfcc, chroma, mel):\n",
        "    with soundfile.SoundFile(file_name) as sound_file:\n",
        "        X = sound_file.read(dtype=\"float32\")\n",
        "        sample_rate=sound_file.samplerate\n",
        "        if chroma:\n",
        "            stft=np.abs(librosa.stft(X))\n",
        "        result=np.array([])\n",
        "        if mfcc:\n",
        "            mfccs=np.mean(librosa.feature.mfcc(y=X, sr=sample_rate, n_mfcc=40).T, axis=0)\n",
        "        result=np.hstack((result, mfccs))\n",
        "        if chroma:\n",
        "            chroma=np.mean(librosa.feature.chroma_stft(S=stft, sr=sample_rate).T,axis=0)\n",
        "        result=np.hstack((result, chroma))\n",
        "        if mel:\n",
        "            mel=np.mean(librosa.feature.melspectrogram(X, sr=sample_rate).T,axis=0)\n",
        "        result=np.hstack((result, mel))\n",
        "    return result"
      ],
      "execution_count": 178,
      "outputs": []
    },
    {
      "cell_type": "code",
      "metadata": {
        "id": "4ZsasukT-KQB"
      },
      "source": [
        "emotions={\n",
        "  '01':'neutral',\n",
        "  '02':'calm',\n",
        "  '03':'happy',\n",
        "  '04':'sad',\n",
        "  '05':'angry',\n",
        "  '06':'fearful',\n",
        "  '07':'disgust',\n",
        "  '08':'surprised'\n",
        "}\n",
        "#These are the emotions User wants to observe more :\n",
        "observed_emotions=['calm', 'happy', 'fearful', 'disgust']"
      ],
      "execution_count": 179,
      "outputs": []
    },
    {
      "cell_type": "code",
      "metadata": {
        "id": "Ngo12bQ1-Q-s"
      },
      "source": [
        "from glob import glob\n",
        "import os\n",
        "import glob\n",
        "def load_data(test_size=0.33):\n",
        "    x,y=[],[]\n",
        "    answer = 0\n",
        "    for file in glob.glob(r'/content/drive/MyDrive/clean_speech1//*.wav'):\n",
        "        file_name=os.path.basename(file)\n",
        "        emotion=emotions[file_name.split(\"-\")[2]]\n",
        "        if emotion not in observed_emotions:\n",
        "            answer += 1\n",
        "            continue\n",
        "        feature=extract_feature(file, mfcc=True, chroma=True, mel=True)\n",
        "        x.append(feature)\n",
        "        y.append([emotion,file_name])\n",
        "    return train_test_split(np.array(x), y, test_size=test_size, random_state=9)"
      ],
      "execution_count": 181,
      "outputs": []
    },
    {
      "cell_type": "code",
      "metadata": {
        "colab": {
          "base_uri": "https://localhost:8080/"
        },
        "id": "wjAV81bc-qWL",
        "outputId": "1cedf6fb-f361-4511-fa3c-fdf99e83040c"
      },
      "source": [
        "import librosa\n",
        "import numpy as np\n",
        "x_train,x_test,y_trai,y_tes=load_data(test_size=0.25)\n",
        "print(np.shape(x_train),np.shape(x_test), np.shape(y_trai),np.shape(y_tes))\n",
        "y_test_map = np.array(y_tes).T\n",
        "y_test = y_test_map[0]\n",
        "test_filename = y_test_map[1]\n",
        "y_train_map = np.array(y_trai).T\n",
        "y_train = y_train_map[0]\n",
        "train_filename = y_train_map[1]\n",
        "print(np.shape(y_train),np.shape(y_test))\n",
        "print(*test_filename,sep=\"\\n\")"
      ],
      "execution_count": 184,
      "outputs": [
        {
          "output_type": "stream",
          "text": [
            "(576, 180) (192, 180) (576, 2) (192, 2)\n",
            "(576,) (192,)\n",
            "03-01-02-01-01-02-12.wav\n",
            "03-01-06-01-01-02-22.wav\n",
            "03-01-03-01-02-02-04.wav\n",
            "03-01-02-01-02-02-21.wav\n",
            "03-01-02-01-02-01-04.wav\n",
            "03-01-02-01-02-01-07.wav\n",
            "03-01-07-01-02-02-13.wav\n",
            "03-01-02-01-01-02-15.wav\n",
            "03-01-02-01-02-02-07.wav\n",
            "03-01-03-02-01-01-10.wav\n",
            "03-01-06-01-02-01-19.wav\n",
            "03-01-06-01-01-01-12.wav\n",
            "03-01-02-01-02-02-09.wav\n",
            "03-01-07-01-02-01-07.wav\n",
            "03-01-07-02-02-01-06.wav\n",
            "03-01-02-02-01-01-08.wav\n",
            "03-01-02-01-01-02-24.wav\n",
            "03-01-03-01-02-01-13.wav\n",
            "03-01-07-01-02-02-05.wav\n",
            "03-01-06-02-02-01-15.wav\n",
            "03-01-02-01-02-01-21.wav\n",
            "03-01-03-02-01-01-16.wav\n",
            "03-01-03-01-01-02-17.wav\n",
            "03-01-03-01-02-02-15.wav\n",
            "03-01-07-01-01-02-19.wav\n",
            "03-01-07-01-01-01-20.wav\n",
            "03-01-07-01-02-01-22.wav\n",
            "03-01-03-01-01-01-18.wav\n",
            "03-01-03-01-01-02-06.wav\n",
            "03-01-02-01-01-02-22.wav\n",
            "03-01-03-02-02-02-07.wav\n",
            "03-01-06-02-01-02-01.wav\n",
            "03-01-03-02-02-01-03.wav\n",
            "03-01-07-02-01-02-22.wav\n",
            "03-01-03-02-01-02-07.wav\n",
            "03-01-07-02-02-01-02.wav\n",
            "03-01-06-01-01-01-09.wav\n",
            "03-01-02-02-02-02-01.wav\n",
            "03-01-02-01-02-02-14.wav\n",
            "03-01-03-02-01-02-10.wav\n",
            "03-01-06-02-01-01-03.wav\n",
            "03-01-07-02-02-01-19.wav\n",
            "03-01-07-01-02-02-23.wav\n",
            "03-01-06-02-02-02-09.wav\n",
            "03-01-03-01-01-02-11.wav\n",
            "03-01-02-02-02-02-21.wav\n",
            "03-01-07-01-01-02-10.wav\n",
            "03-01-06-02-02-02-13.wav\n",
            "03-01-03-01-01-02-20.wav\n",
            "03-01-06-02-02-01-24.wav\n",
            "03-01-06-01-02-02-09.wav\n",
            "03-01-07-01-01-01-05.wav\n",
            "03-01-07-02-02-02-23.wav\n",
            "03-01-03-01-01-01-21.wav\n",
            "03-01-02-01-02-01-14.wav\n",
            "03-01-03-02-02-02-01.wav\n",
            "03-01-07-01-01-02-05.wav\n",
            "03-01-07-02-01-01-24.wav\n",
            "03-01-03-01-01-01-17.wav\n",
            "03-01-03-01-02-02-24.wav\n",
            "03-01-06-01-02-01-21.wav\n",
            "03-01-06-01-02-02-08.wav\n",
            "03-01-07-02-01-02-01.wav\n",
            "03-01-03-02-02-02-12.wav\n",
            "03-01-02-01-01-01-19.wav\n",
            "03-01-03-02-01-01-11.wav\n",
            "03-01-07-02-01-02-16.wav\n",
            "03-01-06-01-01-02-08.wav\n",
            "03-01-06-01-02-02-07.wav\n",
            "03-01-03-02-01-01-06.wav\n",
            "03-01-06-01-01-02-03.wav\n",
            "03-01-07-02-02-02-24.wav\n",
            "03-01-03-02-02-01-15.wav\n",
            "03-01-06-01-01-01-20.wav\n",
            "03-01-02-01-02-01-02.wav\n",
            "03-01-07-02-01-02-24.wav\n",
            "03-01-03-01-01-01-23.wav\n",
            "03-01-06-02-01-01-01.wav\n",
            "03-01-03-01-02-02-22.wav\n",
            "03-01-07-01-02-01-04.wav\n",
            "03-01-03-02-01-01-22.wav\n",
            "03-01-02-02-02-01-22.wav\n",
            "03-01-03-02-02-02-10.wav\n",
            "03-01-07-01-01-02-09.wav\n",
            "03-01-02-01-02-02-02.wav\n",
            "03-01-07-02-01-02-15.wav\n",
            "03-01-03-02-02-01-06.wav\n",
            "03-01-02-02-02-01-03.wav\n",
            "03-01-03-02-01-02-13.wav\n",
            "03-01-07-01-01-01-09.wav\n",
            "03-01-03-02-02-01-24.wav\n",
            "03-01-06-02-01-01-05.wav\n",
            "03-01-03-02-01-02-23.wav\n",
            "03-01-03-02-02-01-18.wav\n",
            "03-01-06-01-01-01-15.wav\n",
            "03-01-02-02-02-01-19.wav\n",
            "03-01-02-01-02-01-23.wav\n",
            "03-01-06-02-02-01-02.wav\n",
            "03-01-06-01-01-01-03.wav\n",
            "03-01-07-01-01-01-22.wav\n",
            "03-01-06-02-02-02-14.wav\n",
            "03-01-02-02-02-02-03.wav\n",
            "03-01-06-02-01-02-16.wav\n",
            "03-01-03-01-01-01-10.wav\n",
            "03-01-06-01-01-01-21.wav\n",
            "03-01-03-01-01-02-02.wav\n",
            "03-01-03-02-01-01-15.wav\n",
            "03-01-02-02-01-01-16.wav\n",
            "03-01-06-02-01-02-19.wav\n",
            "03-01-07-01-01-02-24.wav\n",
            "03-01-07-01-02-02-12.wav\n",
            "03-01-07-02-01-01-03.wav\n",
            "03-01-03-01-02-02-18.wav\n",
            "03-01-02-01-02-02-19.wav\n",
            "03-01-03-01-02-01-02.wav\n",
            "03-01-02-01-01-02-21.wav\n",
            "03-01-03-01-02-02-21.wav\n",
            "03-01-06-01-02-01-24.wav\n",
            "03-01-02-01-02-02-15.wav\n",
            "03-01-07-01-01-02-18.wav\n",
            "03-01-02-01-02-01-18.wav\n",
            "03-01-07-02-02-01-08.wav\n",
            "03-01-07-01-02-02-15.wav\n",
            "03-01-06-02-02-02-24.wav\n",
            "03-01-03-02-01-01-24.wav\n",
            "03-01-06-01-02-02-20.wav\n",
            "03-01-06-01-02-01-09.wav\n",
            "03-01-07-01-01-01-16.wav\n",
            "03-01-03-01-02-01-04.wav\n",
            "03-01-06-02-02-01-12.wav\n",
            "03-01-03-01-02-02-11.wav\n",
            "03-01-07-01-01-01-17.wav\n",
            "03-01-03-01-01-02-12.wav\n",
            "03-01-07-01-01-01-04.wav\n",
            "03-01-02-02-02-02-17.wav\n",
            "03-01-07-01-01-01-14.wav\n",
            "03-01-07-02-01-01-13.wav\n",
            "03-01-06-01-02-02-16.wav\n",
            "03-01-07-01-01-02-03.wav\n",
            "03-01-07-01-01-01-18.wav\n",
            "03-01-02-01-01-01-08.wav\n",
            "03-01-07-01-01-02-14.wav\n",
            "03-01-03-01-02-01-01.wav\n",
            "03-01-03-02-02-01-20.wav\n",
            "03-01-03-01-02-01-12.wav\n",
            "03-01-06-01-02-01-08.wav\n",
            "03-01-02-01-01-02-09.wav\n",
            "03-01-03-02-02-01-09.wav\n",
            "03-01-02-01-01-02-14.wav\n",
            "03-01-07-01-02-01-13.wav\n",
            "03-01-02-02-02-02-13.wav\n",
            "03-01-06-01-01-02-12.wav\n",
            "03-01-06-02-01-02-04.wav\n",
            "03-01-02-02-02-01-24.wav\n",
            "03-01-06-01-02-02-12.wav\n",
            "03-01-07-01-01-01-12.wav\n",
            "03-01-06-02-01-02-11.wav\n",
            "03-01-03-01-02-02-23.wav\n",
            "03-01-07-02-01-02-12.wav\n",
            "03-01-06-01-02-01-22.wav\n",
            "03-01-03-02-02-02-15.wav\n",
            "03-01-07-01-01-01-15.wav\n",
            "03-01-02-01-02-01-09.wav\n",
            "03-01-06-02-01-01-16.wav\n",
            "03-01-06-01-01-02-16.wav\n",
            "03-01-03-02-02-01-12.wav\n",
            "03-01-02-02-01-02-22.wav\n",
            "03-01-02-02-02-02-05.wav\n",
            "03-01-03-01-01-01-09.wav\n",
            "03-01-02-01-01-01-22.wav\n",
            "03-01-03-02-01-02-09.wav\n",
            "03-01-06-01-02-02-11.wav\n",
            "03-01-03-01-01-01-01.wav\n",
            "03-01-03-01-01-01-06.wav\n",
            "03-01-06-01-01-02-15.wav\n",
            "03-01-07-01-02-01-20.wav\n",
            "03-01-06-02-02-01-07.wav\n",
            "03-01-06-02-01-02-14.wav\n",
            "03-01-03-01-02-01-23.wav\n",
            "03-01-06-01-01-02-07.wav\n",
            "03-01-06-01-01-02-10.wav\n",
            "03-01-02-02-02-01-11.wav\n",
            "03-01-03-01-01-02-23.wav\n",
            "03-01-07-02-02-01-09.wav\n",
            "03-01-03-02-02-01-10.wav\n",
            "03-01-02-02-01-02-09.wav\n",
            "03-01-02-02-02-02-02.wav\n",
            "03-01-06-01-02-02-04.wav\n",
            "03-01-02-01-01-02-05.wav\n",
            "03-01-02-01-01-02-10.wav\n",
            "03-01-02-02-01-01-13.wav\n",
            "03-01-06-02-02-01-19.wav\n"
          ],
          "name": "stdout"
        }
      ]
    },
    {
      "cell_type": "code",
      "metadata": {
        "colab": {
          "base_uri": "https://localhost:8080/"
        },
        "id": "HsujQPAK-4b2",
        "outputId": "373b0db6-f14a-4095-d47b-cbf7dfe5249f"
      },
      "source": [
        "print((x_train[0], x_test[0]))\n",
        "#Get the number of features extracted\n",
        "print(f'Features extracted: {x_train.shape[1]}')\n"
      ],
      "execution_count": 185,
      "outputs": [
        {
          "output_type": "stream",
          "text": [
            "(array([-3.90218903e+02,  9.14859085e+01, -3.55143166e+00,  1.52801123e+01,\n",
            "        1.85004282e+00, -1.53970661e+01, -1.61027737e+01, -1.58910446e+01,\n",
            "       -1.32888260e+01, -8.25821996e-01, -1.81923599e+01,  8.07108879e+00,\n",
            "       -1.52320471e+01, -3.84366798e+00, -1.00702915e+01, -1.11860037e+01,\n",
            "        1.09612811e+00, -3.85793376e+00, -8.92042542e+00, -2.90964007e+00,\n",
            "       -8.00875568e+00, -5.92047024e+00, -7.76378441e+00, -2.21119142e+00,\n",
            "       -6.08377981e+00, -1.53390253e+00, -2.12451053e+00, -1.35359788e+00,\n",
            "       -8.34882545e+00, -3.35070109e+00, -5.17236567e+00, -2.55349851e+00,\n",
            "       -2.02528238e+00, -7.20508194e+00, -7.52446413e+00, -5.71129227e+00,\n",
            "       -3.13732743e-01,  1.62567973e+00,  6.47740841e-01, -3.38669032e-01,\n",
            "        5.54685891e-01,  6.08335018e-01,  6.64716780e-01,  6.33815527e-01,\n",
            "        6.40228271e-01,  5.36144257e-01,  5.90462744e-01,  5.66305816e-01,\n",
            "        5.77841461e-01,  6.21604323e-01,  6.85790598e-01,  6.51344478e-01,\n",
            "        4.33390116e-04,  1.69071500e-04,  7.60804571e-04,  6.23381650e-03,\n",
            "        5.92361987e-02,  1.56672686e-01,  1.53833985e-01,  1.21030165e-02,\n",
            "        1.33806895e-02,  5.66541813e-02,  9.48532596e-02,  1.45604327e-01,\n",
            "        1.96586818e-01,  2.99818218e-01,  3.19098085e-02,  4.29775678e-02,\n",
            "        8.08280110e-02,  5.61423488e-02,  1.17301211e-01,  4.14534807e-01,\n",
            "        2.99234539e-01,  5.35875149e-02,  7.72304684e-02,  1.67994127e-01,\n",
            "        2.46572629e-01,  7.74297193e-02,  9.14733782e-02,  9.99103859e-02,\n",
            "        4.40632887e-02,  1.22807726e-01,  5.12617886e-01,  1.11347593e-01,\n",
            "        2.54457332e-02,  1.26325460e-02,  7.53433770e-03,  4.93076816e-03,\n",
            "        1.68642551e-02,  7.34072551e-03,  2.67785299e-03,  4.71161399e-03,\n",
            "        8.49406701e-03,  1.82189140e-02,  3.88165787e-02,  2.25673709e-02,\n",
            "        2.81988503e-03,  3.52217071e-03,  7.79918255e-03,  3.50848585e-02,\n",
            "        5.93480542e-02,  2.22524442e-02,  3.46130924e-03,  2.34844815e-03,\n",
            "        2.40815617e-03,  3.01958690e-03,  1.77419314e-03,  2.91695143e-03,\n",
            "        1.39305810e-03,  2.09716149e-03,  3.03055276e-03,  1.18118501e-03,\n",
            "        1.25420676e-03,  2.87079345e-03,  2.44386704e-03,  1.96851976e-03,\n",
            "        4.60738037e-03,  3.77702643e-03,  3.27347172e-03,  2.20659166e-03,\n",
            "        5.26179839e-03,  3.60767590e-03,  1.48757733e-03,  2.00872240e-03,\n",
            "        1.53032586e-03,  1.71578326e-03,  1.68597349e-03,  1.16091431e-03,\n",
            "        1.62679912e-03,  2.00394168e-03,  1.50745537e-03,  3.92676238e-03,\n",
            "        1.22610293e-03,  1.67476630e-03,  1.22967327e-03,  3.16583319e-04,\n",
            "        3.05161666e-04,  3.51681985e-04,  4.76132293e-04,  4.77907917e-04,\n",
            "        3.78258934e-04,  4.70515253e-04,  5.32787468e-04,  9.15152777e-04,\n",
            "        1.57397310e-03,  1.71772600e-03,  1.42001163e-03,  8.19224340e-04,\n",
            "        5.72362449e-04,  7.47719605e-04,  3.37129110e-04,  1.69794585e-04,\n",
            "        1.94677545e-04,  2.09925391e-04,  1.39582044e-04,  2.72969599e-04,\n",
            "        3.82464641e-04,  2.51589867e-04,  3.05858295e-04,  4.44974925e-04,\n",
            "        5.80146327e-04,  7.09325657e-04,  7.18935975e-04,  8.76598409e-04,\n",
            "        1.02449243e-03,  6.06297224e-04,  8.66847753e-04,  6.00353058e-04,\n",
            "        4.55024245e-04,  3.45622044e-04,  2.40845024e-04,  2.28186676e-04,\n",
            "        3.61691607e-04,  4.99102636e-04,  5.80678927e-04,  4.15479357e-04,\n",
            "        4.59070056e-04,  3.27257469e-04,  1.03160397e-04,  5.51842168e-05]), array([-4.86169006e+02,  8.25696030e+01, -1.20141144e+01,  1.14291487e+01,\n",
            "       -1.25158319e+01, -1.16334045e+00, -1.62026615e+01, -1.73694935e+01,\n",
            "       -1.15546856e+01, -7.25594711e+00, -4.32767439e+00, -1.94930859e+01,\n",
            "       -1.71183288e+00, -3.34503603e+00, -1.73894539e+01, -7.34268856e+00,\n",
            "       -5.25066471e+00, -8.52318382e+00, -8.70611477e+00, -5.43842983e+00,\n",
            "       -6.73252392e+00, -1.65136540e+00,  1.84841454e+00,  3.86158156e+00,\n",
            "        5.04386854e+00,  2.10867238e+00,  6.16667843e+00,  5.50947618e+00,\n",
            "        3.67946124e+00,  4.86092377e+00,  7.44457340e+00,  1.25776758e+01,\n",
            "        1.08873854e+01,  1.43239212e+01,  7.45037222e+00,  1.98064554e+00,\n",
            "       -2.23202184e-01,  1.62971580e+00,  1.34053421e+00,  3.34674954e+00,\n",
            "        4.42205012e-01,  4.89600211e-01,  3.97977591e-01,  4.12221014e-01,\n",
            "        4.55846637e-01,  5.03456473e-01,  6.29120469e-01,  5.55232048e-01,\n",
            "        4.66206163e-01,  4.40374583e-01,  4.71031457e-01,  4.48332995e-01,\n",
            "        1.83211872e-04,  1.49272149e-04,  5.15472420e-05,  5.70949705e-05,\n",
            "        2.62389076e-05,  1.09784154e-03,  3.45809907e-02,  1.75929457e-01,\n",
            "        7.74634704e-02,  9.33465436e-02,  9.45103243e-02,  1.11204490e-01,\n",
            "        1.60695221e-02,  4.57576709e-03,  8.52290355e-03,  4.28744219e-02,\n",
            "        2.73857471e-02,  1.05597535e-02,  8.08467250e-03,  1.35444654e-02,\n",
            "        4.02118973e-02,  2.05773506e-02,  2.71411110e-02,  4.11898531e-02,\n",
            "        2.66307890e-02,  5.58454450e-03,  3.96652613e-03,  3.05935997e-03,\n",
            "        3.73378582e-03,  2.58511468e-03,  5.77426795e-03,  1.19332653e-02,\n",
            "        3.93837644e-03,  9.23222979e-04,  1.28044770e-03,  1.27831579e-03,\n",
            "        1.23992807e-03,  1.29848998e-03,  2.46630679e-03,  2.04923726e-03,\n",
            "        2.71376548e-03,  3.18770320e-03,  1.90396677e-03,  2.23043398e-03,\n",
            "        3.77096282e-03,  5.36388392e-03,  6.00166386e-03,  7.43595138e-03,\n",
            "        4.71229712e-03,  1.71138707e-03,  2.38437834e-03,  3.00129130e-03,\n",
            "        3.45906825e-03,  1.43935077e-03,  8.51880643e-04,  4.29529435e-04,\n",
            "        2.81062583e-03,  3.39509849e-03,  1.53107545e-03,  1.09239318e-03,\n",
            "        3.30520386e-04,  4.00171237e-04,  2.96333950e-04,  5.33586950e-04,\n",
            "        1.51579652e-03,  5.72380086e-04,  1.53279980e-04,  1.57041330e-04,\n",
            "        1.71205364e-04,  8.01226852e-05,  6.14813180e-05,  7.45732832e-05,\n",
            "        2.94712718e-05,  4.57670831e-05,  5.64729162e-05,  6.44472748e-05,\n",
            "        2.19547874e-04,  8.81183078e-05,  1.71227279e-04,  1.59511153e-04,\n",
            "        1.55697737e-04,  3.02879198e-04,  2.84487993e-04,  2.55644962e-04,\n",
            "        1.74245404e-04,  3.93646245e-04,  3.28652182e-04,  1.53836212e-04,\n",
            "        4.31825356e-05,  8.63116002e-05,  7.85515513e-05,  5.33616003e-05,\n",
            "        1.08531836e-04,  6.32856536e-05,  4.71410385e-05,  3.37376368e-05,\n",
            "        1.53417466e-04,  1.06747786e-04,  6.64635954e-05,  1.57585368e-04,\n",
            "        1.35658876e-04,  4.93036532e-05,  1.28045489e-04,  4.71624844e-05,\n",
            "        5.39037210e-05,  8.02656068e-05,  4.11698456e-05,  4.82946343e-05,\n",
            "        3.54517506e-05,  4.30593718e-05,  3.79496814e-05,  3.02043773e-05,\n",
            "        2.99601816e-05,  3.04945770e-05,  2.89609852e-05,  3.59284786e-05,\n",
            "        4.24249738e-05,  2.58136970e-05,  2.73029764e-05,  2.15955934e-05,\n",
            "        2.19329941e-05,  1.48664940e-05,  1.35551300e-05,  1.71832835e-05,\n",
            "        1.21600851e-05,  1.84880028e-05,  7.66670291e-06,  5.83115207e-06]))\n",
            "Features extracted: 180\n"
          ],
          "name": "stdout"
        }
      ]
    },
    {
      "cell_type": "code",
      "metadata": {
        "id": "yFBai5H5-_8C"
      },
      "source": [
        "model=MLPClassifier(alpha=0.01, batch_size=256, epsilon=1e-08, hidden_layer_sizes=(300,), learning_rate='adaptive', max_iter=500)"
      ],
      "execution_count": 186,
      "outputs": []
    },
    {
      "cell_type": "code",
      "metadata": {
        "colab": {
          "base_uri": "https://localhost:8080/"
        },
        "id": "MMYkcwB4_FRu",
        "outputId": "2e6998c3-1cfc-4a5c-a3ad-baaa343e9836"
      },
      "source": [
        "model.fit(x_train,y_train)"
      ],
      "execution_count": 187,
      "outputs": [
        {
          "output_type": "execute_result",
          "data": {
            "text/plain": [
              "MLPClassifier(activation='relu', alpha=0.01, batch_size=256, beta_1=0.9,\n",
              "              beta_2=0.999, early_stopping=False, epsilon=1e-08,\n",
              "              hidden_layer_sizes=(300,), learning_rate='adaptive',\n",
              "              learning_rate_init=0.001, max_fun=15000, max_iter=500,\n",
              "              momentum=0.9, n_iter_no_change=10, nesterovs_momentum=True,\n",
              "              power_t=0.5, random_state=None, shuffle=True, solver='adam',\n",
              "              tol=0.0001, validation_fraction=0.1, verbose=False,\n",
              "              warm_start=False)"
            ]
          },
          "metadata": {
            "tags": []
          },
          "execution_count": 187
        }
      ]
    },
    {
      "cell_type": "code",
      "metadata": {
        "id": "tLONzzxQ_V-A"
      },
      "source": [
        "import pickle\n",
        "# Save the Modle to file in the current working directory\n",
        "#For any new testing data other than the data in dataset\n",
        "\n",
        "Pkl_Filename = \"Emotion_Voice_Detection_Model.pkl\"  \n",
        "\n",
        "with open(Pkl_Filename, 'wb') as file:  \n",
        "    pickle.dump(model, file)"
      ],
      "execution_count": 189,
      "outputs": []
    },
    {
      "cell_type": "code",
      "metadata": {
        "colab": {
          "base_uri": "https://localhost:8080/"
        },
        "id": "xnfzhNGb__QW",
        "outputId": "4bde2484-c672-4c35-ede2-8314e199ba76"
      },
      "source": [
        "with open(Pkl_Filename, 'rb') as file:  \n",
        "    Emotion_Voice_Detection_Model = pickle.load(file)\n",
        "\n",
        "Emotion_Voice_Detection_Model"
      ],
      "execution_count": 190,
      "outputs": [
        {
          "output_type": "execute_result",
          "data": {
            "text/plain": [
              "MLPClassifier(activation='relu', alpha=0.01, batch_size=256, beta_1=0.9,\n",
              "              beta_2=0.999, early_stopping=False, epsilon=1e-08,\n",
              "              hidden_layer_sizes=(300,), learning_rate='adaptive',\n",
              "              learning_rate_init=0.001, max_fun=15000, max_iter=500,\n",
              "              momentum=0.9, n_iter_no_change=10, nesterovs_momentum=True,\n",
              "              power_t=0.5, random_state=None, shuffle=True, solver='adam',\n",
              "              tol=0.0001, validation_fraction=0.1, verbose=False,\n",
              "              warm_start=False)"
            ]
          },
          "metadata": {
            "tags": []
          },
          "execution_count": 190
        }
      ]
    },
    {
      "cell_type": "code",
      "metadata": {
        "colab": {
          "base_uri": "https://localhost:8080/"
        },
        "id": "gxe9Wc9IAIfx",
        "outputId": "a53f22f0-8d5d-4c26-f9f2-b8c19921df50"
      },
      "source": [
        "y_pred=Emotion_Voice_Detection_Model.predict(x_test)\n",
        "y_pred"
      ],
      "execution_count": 192,
      "outputs": [
        {
          "output_type": "execute_result",
          "data": {
            "text/plain": [
              "array(['calm', 'fearful', 'happy', 'calm', 'calm', 'calm', 'disgust',\n",
              "       'calm', 'calm', 'fearful', 'fearful', 'disgust', 'calm', 'calm',\n",
              "       'happy', 'calm', 'calm', 'happy', 'disgust', 'fearful', 'calm',\n",
              "       'happy', 'fearful', 'happy', 'disgust', 'disgust', 'disgust',\n",
              "       'happy', 'happy', 'calm', 'happy', 'fearful', 'happy', 'disgust',\n",
              "       'disgust', 'disgust', 'fearful', 'calm', 'calm', 'fearful',\n",
              "       'happy', 'disgust', 'fearful', 'fearful', 'calm', 'calm',\n",
              "       'disgust', 'fearful', 'disgust', 'fearful', 'fearful', 'disgust',\n",
              "       'fearful', 'calm', 'fearful', 'happy', 'disgust', 'disgust',\n",
              "       'happy', 'fearful', 'fearful', 'fearful', 'disgust', 'happy',\n",
              "       'calm', 'happy', 'disgust', 'fearful', 'fearful', 'happy',\n",
              "       'fearful', 'disgust', 'happy', 'fearful', 'calm', 'disgust',\n",
              "       'happy', 'fearful', 'happy', 'disgust', 'happy', 'calm', 'fearful',\n",
              "       'disgust', 'calm', 'disgust', 'happy', 'calm', 'happy', 'disgust',\n",
              "       'happy', 'fearful', 'happy', 'happy', 'fearful', 'calm', 'disgust',\n",
              "       'fearful', 'happy', 'disgust', 'happy', 'calm', 'fearful', 'happy',\n",
              "       'disgust', 'happy', 'fearful', 'calm', 'fearful', 'disgust',\n",
              "       'disgust', 'disgust', 'happy', 'calm', 'happy', 'calm', 'happy',\n",
              "       'fearful', 'calm', 'disgust', 'calm', 'disgust', 'disgust',\n",
              "       'fearful', 'happy', 'fearful', 'calm', 'disgust', 'happy',\n",
              "       'fearful', 'happy', 'disgust', 'happy', 'calm', 'calm', 'fearful',\n",
              "       'disgust', 'fearful', 'disgust', 'disgust', 'disgust', 'disgust',\n",
              "       'happy', 'happy', 'happy', 'fearful', 'calm', 'happy', 'calm',\n",
              "       'disgust', 'calm', 'fearful', 'fearful', 'calm', 'disgust',\n",
              "       'disgust', 'happy', 'fearful', 'disgust', 'fearful', 'happy',\n",
              "       'disgust', 'calm', 'fearful', 'fearful', 'happy', 'calm', 'calm',\n",
              "       'calm', 'calm', 'happy', 'disgust', 'happy', 'happy', 'disgust',\n",
              "       'disgust', 'happy', 'fearful', 'fearful', 'fearful', 'calm',\n",
              "       'calm', 'happy', 'disgust', 'fearful', 'calm', 'calm', 'fearful',\n",
              "       'calm', 'calm', 'calm', 'fearful'], dtype='<U7')"
            ]
          },
          "metadata": {
            "tags": []
          },
          "execution_count": 192
        }
      ]
    },
    {
      "cell_type": "code",
      "metadata": {
        "colab": {
          "base_uri": "https://localhost:8080/"
        },
        "id": "ujMs8ospAKkt",
        "outputId": "8e23316f-50dd-4341-e44d-f568e1c50fbc"
      },
      "source": [
        "import numpy as np\n",
        "import pandas as pd\n",
        "y_pred1 = pd.DataFrame(y_pred, columns=['predictions'])\n",
        "y_pred1['file_names'] = test_filename\n",
        "print(y_pred1)\n",
        "y_pred1.to_csv('predictionfinal.csv')"
      ],
      "execution_count": 193,
      "outputs": [
        {
          "output_type": "stream",
          "text": [
            "    predictions                file_names\n",
            "0          calm  03-01-02-01-01-02-12.wav\n",
            "1       fearful  03-01-06-01-01-02-22.wav\n",
            "2         happy  03-01-03-01-02-02-04.wav\n",
            "3          calm  03-01-02-01-02-02-21.wav\n",
            "4          calm  03-01-02-01-02-01-04.wav\n",
            "..          ...                       ...\n",
            "187     fearful  03-01-06-01-02-02-04.wav\n",
            "188        calm  03-01-02-01-01-02-05.wav\n",
            "189        calm  03-01-02-01-01-02-10.wav\n",
            "190        calm  03-01-02-02-01-01-13.wav\n",
            "191     fearful  03-01-06-02-02-01-19.wav\n",
            "\n",
            "[192 rows x 2 columns]\n"
          ],
          "name": "stdout"
        }
      ]
    },
    {
      "cell_type": "code",
      "metadata": {
        "id": "1tmGeGJQAwAN"
      },
      "source": [
        "y_pred=model.predict(x_test)"
      ],
      "execution_count": 196,
      "outputs": []
    },
    {
      "cell_type": "code",
      "metadata": {
        "id": "l5qd6itOBKz_"
      },
      "source": [
        "accuracy=accuracy_score(y_true=y_test, y_pred=y_pred)"
      ],
      "execution_count": 197,
      "outputs": []
    },
    {
      "cell_type": "code",
      "metadata": {
        "colab": {
          "base_uri": "https://localhost:8080/"
        },
        "id": "cSf0Woy7BLNC",
        "outputId": "c06df505-5e5e-465c-eb57-a6415c9297ce"
      },
      "source": [
        "print(\"Accuracy: {:.2f}%\".format(accuracy*100))"
      ],
      "execution_count": 198,
      "outputs": [
        {
          "output_type": "stream",
          "text": [
            "Accuracy: 81.77%\n"
          ],
          "name": "stdout"
        }
      ]
    }
  ]
}